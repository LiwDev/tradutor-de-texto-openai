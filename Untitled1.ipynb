{
  "nbformat": 4,
  "nbformat_minor": 0,
  "metadata": {
    "colab": {
      "provenance": [],
      "authorship_tag": "ABX9TyO61Y4gUrPJctzyk+KviCPF"
    },
    "kernelspec": {
      "name": "python3",
      "display_name": "Python 3"
    },
    "language_info": {
      "name": "python"
    }
  },
  "cells": [
    {
      "cell_type": "code",
      "source": [
        "import requests\n",
        "from bs4 import BeautifulSoup\n",
        "\n",
        "def extract_text_from_url(url):\n",
        "     response = requests.get(url)\n",
        "     soup = BeautifulSoup(response.text, 'html.parser')\n",
        "     text= soup.get_text()\n",
        "     return text\n"
      ],
      "metadata": {
        "id": "X2Z5IMP3vl2j"
      },
      "execution_count": 79,
      "outputs": []
    },
    {
      "cell_type": "code",
      "source": [
        " from langchain_openai.chat_models.azure import AzureChatOpenAI\n",
        "\n",
        "client = AzureChatOpenAI(\n",
        "    azure_endpoint= \"insira_o_endPoint\",\n",
        "    api_key= \"insira_sua_key\",\n",
        "    api_version= \"2024-02-15-preview\",\n",
        "    deployment_name= \"gpt-4o-mini\",\n",
        "    max_retries=0\n",
        ")\n",
        "\n",
        "def translate_article(text, lang):\n",
        "    messages = [\n",
        "        (\"system\", \"Você atua como tradutor de textos\"),\n",
        "        (\"user\", f\"Traduza o {text} para o idioma {lang} e responda em markdown\")\n",
        "    ]\n",
        "\n",
        "    response = client.invoke(messages)\n",
        "    print(response.content)\n",
        "    return response.content\n",
        "url= \"https://www.letras.com/bruno-mars/1683319/\"\n",
        "text= extract_text_from_url(url)\n",
        "translate_article(\"You can count on me 'cause I can count on you\", \"pt-br\")"
      ],
      "metadata": {
        "colab": {
          "base_uri": "https://localhost:8080/",
          "height": 53
        },
        "id": "ko04-OUhiLdf",
        "outputId": "aa020213-87ae-40f4-8e6b-33fdd13677ff"
      },
      "execution_count": 82,
      "outputs": [
        {
          "output_type": "stream",
          "name": "stdout",
          "text": [
            "Você pode contar comigo porque eu posso contar com você.\n"
          ]
        },
        {
          "output_type": "execute_result",
          "data": {
            "text/plain": [
              "'Você pode contar comigo porque eu posso contar com você.'"
            ],
            "application/vnd.google.colaboratory.intrinsic+json": {
              "type": "string"
            }
          },
          "metadata": {},
          "execution_count": 82
        }
      ]
    },
    {
      "cell_type": "code",
      "source": [],
      "metadata": {
        "id": "bM3GQ6dYvjBa"
      },
      "execution_count": null,
      "outputs": []
    }
  ]
}